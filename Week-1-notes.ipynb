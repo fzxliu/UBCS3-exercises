{
 "cells": [
  {
   "cell_type": "markdown",
   "metadata": {},
   "source": [
    "# UBC Scientific Software seminar wk01 notes"
   ]
  },
  {
   "cell_type": "markdown",
   "metadata": {},
   "source": [
    "## July 20th, 2016\n",
    "Agenda:\n",
    "* Jupyter notebooks\n",
    "* repos on GitHub\n",
    "* Git clone, push & pull\n",
    "* collaborate on GitHub\n",
    "* Intro to Python"
   ]
  },
  {
   "cell_type": "markdown",
   "metadata": {},
   "source": [
    "## 1. Jupyter Notebooks\n",
    "Jupyter is a web app which allows you to write text, markdown, include images and execute code all in the browser. See [jupyter.org](https://jupyter.org)"
   ]
  },
  {
   "cell_type": "markdown",
   "metadata": {},
   "source": [
    "In a markdown cell, we can include:\n",
    "* headings with #\n",
    "* links - `[text](url)`\n",
    "* images - `![title](url)` e.g. ![Cameraman](https://www.math.ust.hk/~masyleung/Teaching/CAS/MATLAB/image/images/cameraman.jpg)\n",
    "* LaTeX - e.g. $\\int_a^b f(x) dx= F(b) - F(a)$\n",
    "* etc."
   ]
  },
  {
   "cell_type": "markdown",
   "metadata": {},
   "source": [
    "In a code cell, we execute Python 3 code (since we've specified the kernel to be Python3, as sshown in the top right corner of the notebook"
   ]
  },
  {
   "cell_type": "code",
   "execution_count": 3,
   "metadata": {
    "collapsed": false
   },
   "outputs": [
    {
     "name": "stdout",
     "output_type": "stream",
     "text": [
      "0 squared is equal to 0\n",
      "1 squared is equal to 1\n",
      "2 squared is equal to 4\n",
      "3 squared is equal to 9\n"
     ]
    }
   ],
   "source": [
    "for n in range (0,4):\n",
    "    print(n,\"squared is equal to\", n**2)"
   ]
  },
  {
   "cell_type": "markdown",
   "metadata": {},
   "source": [
    "### Exercise\n",
    "Make a new Jupyter notebook with a Python 3 kernel and write a quick description of a project you are working on or interested in. Use markdown cells including text, link, images, headings, lists, LaTeX and Python code (if you like). Take your time b/c we are going to be pushing these notebooks to GitHub in a later exercise."
   ]
  },
  {
   "cell_type": "markdown",
   "metadata": {},
   "source": [
    "## 2. GitHub\n",
    "[GitHub](https://github.com/) is a website"
   ]
  }
 ],
 "metadata": {
  "kernelspec": {
   "display_name": "Python 3",
   "language": "python",
   "name": "python3"
  },
  "language_info": {
   "codemirror_mode": {
    "name": "ipython",
    "version": 3
   },
   "file_extension": ".py",
   "mimetype": "text/x-python",
   "name": "python",
   "nbconvert_exporter": "python",
   "pygments_lexer": "ipython3",
   "version": "3.5.1"
  }
 },
 "nbformat": 4,
 "nbformat_minor": 0
}
